{
 "cells": [
  {
   "cell_type": "markdown",
   "metadata": {},
   "source": [
    "# Evaluierung von Parsingtechniken\n",
    "\n",
    "Das Parsing von textbasierten Dateien ist ein wichtiger Mechanismus, welcher im Zuge der Informationsbearbeitung\n",
    "einen hohen Stellenwert innehält. Die Einsatzgebiete dieser Verarbeitung sind vielfältig, ein kleiner Auszug\n",
    "möglicher Einsatzgebiete wäre dabei:\n",
    "\n",
    "- die Verarbeitung von eingegebenen Daten in Textform\n",
    "- die Verarbeitung von Quelltexten durch einen Kompiler\n",
    "- die Syntaktische bzw. Semantische Analyse von Blocktexten\n",
    "- das Evaluieren von Projektabhängigkeiten durch einen Paketmanager\n",
    "- das Rendern von HTML Templates\n",
    "- das serialisieren bzw. deserialisieren von Text aus bzw. in komplexen Datenstrukturen zur Übertragung\n",
    "- die Extraktion von Konfigurationswerten aus Konfigurationsdateien\n",
    "- ..."
   ]
  },
  {
   "cell_type": "markdown",
   "source": [
    "\n",
    "## Motivation und Ziel\n",
    "\n",
    "Libg3n ist eine Bibliothek, welche mit Hilfe von Methoden der Generativen Programmierung eine neue Art der Bereitstellung von Programmbibliotheken schaffen soll. Dabei sollen an bestimmten Variationspunkten innerhalb dieser Programmbibliotheken eine Spezialisierung auf das Projekt stattfinden, welches die Programmbibliothek nutzt. Um dies zu erreichen, muss eine *Domain-Specific-Language* (DSL) definiert werden, welche einem Codegenerator als Eingabegröße dient und die expliziten Werte für die einzelnen Variationspunkte abbildet. Dazu wurde eine Grammatik respektive ein Dateiformat definiert. Diese Dateien enthalten Text in der Grammatik der DSL und müssen somit für eine Weiterverarbeitung zunächst verarbeitet werden.\n",
    "\n",
    "In dieser Arbeit sollen verschiedene Techniken evaluiert werden, um die Inhalte von Konfigurationsdateien der Libg3n Bibliothek zu verarbeiten. Dazu wurden im Vorfeld die folgenden Techniken ausgewählt:\n",
    "\n",
    "- die Implementierung eines eigenen Parsers mithilfe einfacher Textverarbeitung mit python\n",
    "- die Implementierung einer Routine unter Verwendung der *pyparsing* Biliothek\n",
    "- die Definition der Variationspunkte in einer YAML Datei und ein Parsing  der *PyYaml* Bibliothek\n",
    "- die Definition der Variationspunkte in einer XML Datei und Verwendung der nativen XML Bibliothek von Python\n",
    "\n",
    "Dabei werden die Ergebnisse nach unterschiedlichen Gesichtspunkten betrachtet. Zunächst soll im Rahmen dieser Evalierung festgestellt werden, welche Techniken sich für eine möglichst schnelle Verarbeitung der Konfigurationsdateien eignen. Die Verarbeitungsgeschwindigkeit soll dabei in Relation zu der Größe der Eingabedatei bzw. der Anzahl in ihr festgehaltener Datenpunkte gesetzt werden. Darüber hinaus sollen die verschiedenen verwendeten Dateitypen bezüglich deren Eignung zur (leserlichen) Darstellung von Strukturen der Libg3n Bibliothek verglichen werden. Als dritter Gesichtspunkt soll die Stabilität der jeweiligen Methodik betrachtet werden. Dazu sollen die Messergebnisse mehrere Testdurchläufe verglichen werden, um eventuelle Instabilitäten in der Ausführungszeit aufzudecken."
   ],
   "metadata": {
    "collapsed": false
   }
  },
  {
   "cell_type": "markdown",
   "source": [
    "\n",
    "## Definition Parsing\n",
    "\n",
    "Um nachfolgend Parsingtechniken evaluieren zu können, muss zunächst der Begriff des Parsings betrachtet und definiert werden. Dabei wird nach *Gabriele Tomassetti* [1] der Vorgang des Parsing beschrieben als:\n",
    "> The analysis of an input to organize the data according to the rule of a grammar\n",
    "\n",
    "Demnach kann festgehalten werden, dass die Syntax des zu verarbeitenden Textes a priori keine Rolle spielt, solange ein Parser eine Grammatik besitzt, welche die Daten in eine andere Form überführen kann. Das Ziel ist dabei, Daten aus dem eingegebenen Text zu extrahieren. Durch die Unabhängigkeit von der Form der Daten ergibt sich dabei allerdings der große Vorteil, dass jede, der Textform übergeordnete Darstellungsform abgebildet werden kann."
   ],
   "metadata": {
    "collapsed": false
   }
  },
  {
   "cell_type": "markdown",
   "source": [
    "\n",
    "## Abhängigkeiten\n",
    "\n",
    "Um die verschiednen Mesungen durchführen und auswerten zu können werden verschiedene Bibliotheken genuzt, welche sich auf diese Fachgebiete spezialisiert haben und innerhalb von Wissenschaftskreisen etabliert haben. Dazu zählen:\n",
    "\n",
    "- _matplotlib_: Eine Bibliothek zur grafischen, statistischen Auswertung von Zahlenwerten [2]\n",
    "- _pandas_: Eine umfängliche und effiziente Bibliothek zur generellen Datenanalyse [3]\n",
    "- _numpy_: Eine Bibliothek für wissenschaftliche Berechnungen [4]"
   ],
   "metadata": {
    "collapsed": false
   }
  },
  {
   "cell_type": "code",
   "execution_count": 26,
   "metadata": {
    "pycharm": {
     "name": "#%%\n"
    }
   },
   "outputs": [],
   "source": [
    "import matplotlib.pyplot as plt\n",
    "import pandas as pd\n",
    "import numpy as np"
   ]
  },
  {
   "cell_type": "markdown",
   "metadata": {
    "pycharm": {
     "name": "#%% md\n"
    }
   },
   "source": [
    "## Konfiguration\n",
    "\n",
    "Über die Konfigurationsvariable `RUNS` kann festgelegt werden, wie viele Messdurchläufe pro Datenset durchgeführt werden sollen. So können die Ergebnisse, vor allem in Hinblick auf die Langzeitstabilität je nach System besser betrachtet werden."
   ]
  },
  {
   "cell_type": "code",
   "execution_count": null,
   "outputs": [],
   "source": [
    "RUNS = 20"
   ],
   "metadata": {
    "collapsed": false,
    "pycharm": {
     "name": "#%%\n"
    }
   }
  },
  {
   "cell_type": "markdown",
   "metadata": {
    "pycharm": {
     "name": "#%% md\n"
    }
   },
   "source": [
    "## PerformanceTimer\n",
    "\n",
    "In der Klasse `PerformanceTimer` sind alle Funktionen gekapselt, die zu einer Zeitmessung bei der Ausführung einer Funktion erforderlich sind.\n",
    "\n",
    "Bei der Initialisierung kann dem entsprechenden Timer ein eindeutiger Name gegeben werden, um diesen später indentifizieren zu können. Desweiteren kann über einen weiteren Parameter die Anzahl der Iterationen der Messungen bestimmt werden.\n",
    "\n",
    "Die Klasse definiert die Funktion `measure_function` welche eine Referenz auf eine Funktion und deren Argumente als Parameter übergeben werden. Die Argumente spiegeln dabei die verschiedenen Eingabesets wieder. Es handelt sich dabei um eine Liste von Pfaden zu Konfigurationsdateien, welche im Unterordner `/samples` zu finden sind. Diese unterscheiden sich in der Anzahl von enthaltenen Datenpunkten. Die Funktion führt daraufhin für jede Konfigurationsdatei die definierte Anzahl von Messiterationen durch, wobei jeweils mit den Klassenfunktionen `start_function` und `stop_function` die Messung gestartet bzw. gestoppt wird. Der Messvorgang wird dabei durch die python-native *time* Bibliothek bzw. der von ihr bereitgestellten Funktion `perf_counter()` realisiert. Nach einem Set an Messungen mit einer Konfigurationsdatei kann mittels der Funktion `reset` der Messtatus zurückgesetzt werden.\n",
    "\n",
    "Darüber hinaus definiert die Klasse noch zwei weitere Funktionen, welche der Vereinfachung der anschließenden Auswertung dienen. Zum einen wurde die Funktion `average_time` implementiert, welche die mittleren Messwerte aller Sets von Messungen zurückgibt. Desweiteren könne mit Hilfe der Funktion `print` alle gesammelten Messinformationen in Textform dargestellt werden."
   ]
  },
  {
   "cell_type": "code",
   "execution_count": 27,
   "metadata": {
    "pycharm": {
     "name": "#%%\n"
    }
   },
   "outputs": [],
   "source": [
    "import time\n",
    "\n",
    "class PerformanceTimer:\n",
    "    timers = {}\n",
    "\n",
    "    def __init__(self, name: str = \"\", iterations: int = 20):\n",
    "        self.running = False\n",
    "        self.start = None\n",
    "        self.name = name\n",
    "        self.elapsed = 0.0\n",
    "        self.measurements = {}\n",
    "        self.successful_measurements = 0\n",
    "        self.iterations = iterations\n",
    "\n",
    "        PerformanceTimer.timers[self.name] = self\n",
    "\n",
    "    def measure_function(self, func, *args):\n",
    "        for i, arg in enumerate(args):\n",
    "            self.measurements[i] = []\n",
    "            for j in range(self.iterations):\n",
    "                self.start_timer()\n",
    "                func(arg)\n",
    "                self.stop_timer()\n",
    "                self.measurements[i].append(self.elapsed)\n",
    "                self.successful_measurements += 1\n",
    "                self.reset()\n",
    "\n",
    "    def start_timer(self):\n",
    "        if self.running is False:\n",
    "            self.start = time.perf_counter()\n",
    "            self.running = True\n",
    "        else:\n",
    "            raise Exception('Timer already started.')\n",
    "\n",
    "    def stop_timer(self):\n",
    "        if self.running is True:\n",
    "            # Elapsed time in ms\n",
    "            self.elapsed = (time.perf_counter() - self.start) * 1000\n",
    "            self.running = False\n",
    "        else:\n",
    "            raise Exception('Timer is not running.')\n",
    "\n",
    "    def reset(self):\n",
    "        self.start = None\n",
    "        self.elapsed = 0.0\n",
    "        self.running = False\n",
    "\n",
    "    def average_time(self):\n",
    "        result = []\n",
    "        for measurement_set in self.measurements.values():\n",
    "            result.append(sum(measurement_set) / self.iterations)\n",
    "        return result\n",
    "\n",
    "    def print(self):\n",
    "        print(('Timer: ' + self.name).center(50, '-'))\n",
    "        print('Finished: ' + str(not self.running))\n",
    "        print('Sample Sets: ' + str(len(self.measurements)))\n",
    "        print('Measurements: ' + str(self.successful_measurements))\n",
    "\n",
    "        if self.measurements:\n",
    "            print('Measured Times: ' + str(self.measurements))\n",
    "        else:\n",
    "            print('Elapsed Time: ' + str(self.elapsed))\n",
    "\n",
    "        print('\\n')"
   ]
  },
  {
   "cell_type": "markdown",
   "metadata": {
    "pycharm": {
     "name": "#%% md\n"
    }
   },
   "source": [
    "## Manuelles Parsing\n",
    "\n",
    "Das manuelle Parsing basiert auf einer, für die Biliothek Libg3n eigens definierten DSL. Dementsprechend wurde ein Parser von Grund auf Deklariert, welcher sich auf die Textverarbeitungsfähigkeiten nativer python Bibliotheken setzt. Der vollständige Quellcode dieses Parsers kann in dem Unterordner `/parse_manual` betrachtet werden.\n",
    "\n",
    "Der Parser definiert zu Anfang mehrere konstante Listen, welche die Teilstücke der Grammatik der DSL abbilden. So werden beispielsweise zulässige Schlüsselwörter, Symbole und Stoppwörter definiert. Bevor mit diesen Wörtern gearbeitet werden kann, muss zunächst die übergebene Konfigurationsdatei geöffnet und der Inhalt extrahiert werden. Dies wird von Hilfsfunktionen innerhalb der Parserklasse übernommen. Darüber hinaus muss der Ausgelesene Inhalt der Datein durch einen *Lexer* [<sup>1</sup>](#fn1) in eine Liste von einzelnen *Token* übersetzt werden. Folgend kann die Liste der Token auf feste Muster untersucht werden, welche durch die Grammatik vorgegeben werden.\n",
    "\n",
    "In dem Fall des Libg3n Parsers werden die so erkannten Muster in Funktions- und Klassennotationen übersetzt, welche zur Vereinfachung durch triviale Datenklassen repräsentiert werden.\n",
    "\n",
    "[1](#fn1):<small id=\"fn1\"> Programm bzw. Routine zur lexikalischen Analyse eines Textes, wobei dieser in sinnvolle Token zerlegt wird. [5]</small>"
   ]
  },
  {
   "cell_type": "markdown",
   "source": [
    "### Manuelles Parsing - Durchführung der Messungen"
   ],
   "metadata": {
    "collapsed": false
   }
  },
  {
   "cell_type": "code",
   "execution_count": 28,
   "metadata": {
    "pycharm": {
     "name": "#%%\n"
    }
   },
   "outputs": [
    {
     "name": "stdout",
     "output_type": "stream",
     "text": [
      "--------------Timer: Manual Parsing---------------\n",
      "Finished: True\n",
      "Sample Sets: 4\n",
      "Measurements: 80\n",
      "Measured Times: {0: [2.3339580000083515, 0.5242499998985295, 0.39779200005796156, 0.38650000010420626, 0.3739999999652355, 0.4582500000651635, 0.4288749998977437, 0.3689580000809656, 0.3590409999105759, 0.34633400014172366, 0.35554099986256915, 0.35825000009026553, 0.37883300001340103, 0.4088340001544566, 0.37649999990208016, 0.3593750000163709, 0.4679169999235455, 0.3629170000749582, 0.5852499998582061, 0.517458000103943], 1: [0.9704579999834095, 0.7147910000639968, 0.6922909999502735, 2.2773339999275777, 1.3870829998268164, 0.6362090000493481, 1.1564999999791326, 1.2967080001544673, 1.5514999997776613, 2.532041999984358, 0.6817080000018905, 0.6018750000293949, 0.616416999946523, 0.5852499998582061, 0.6099170000197773, 0.5822499999794672, 0.6015829999341804, 0.5674169999565493, 0.6280410000272241, 0.5860839999058953], 2: [1.3046250001025328, 1.1537919999682344, 1.1437499999829015, 1.1464579999937996, 1.051582999934908, 1.1054579999836278, 1.1818749999292777, 1.046791999897323, 1.102583000147206, 1.04579100002411, 1.1213329999009147, 1.037125000038941, 1.1325840000608878, 1.0628330001054564, 1.1237080000228161, 1.05966600017382, 1.080332999890743, 1.0006659999817202, 1.05770800018945, 1.052833999892755], 3: [2.4517499998637504, 2.002333000064027, 1.968999999917287, 2.207333000114886, 1.9735419998596626, 1.971000000139611, 2.0424589999947784, 1.9777079999130365, 2.1350000001802982, 1.9610419999480655, 2.0440829998733534, 1.9697080001606082, 2.0634160000554402, 1.97008400004961, 2.046000000063941, 1.9819159999769909, 2.060083000060331, 2.008040999953664, 2.198458000066239, 1.9874160000199481]}\n",
      "\n",
      "\n"
     ]
    }
   ],
   "source": [
    "from parse_manual.parser import parse as parse_manual\n",
    "\n",
    "manual_timer = PerformanceTimer('Manual Parsing', RUNS)\n",
    "manual_timer.measure_function(parse_manual, './samples/sample.gen', './samples/sample-40.gen',\n",
    "                              './samples/sample-80.gen', './samples/sample-160.gen')\n",
    "manual_timer.print()"
   ]
  },
  {
   "cell_type": "markdown",
   "metadata": {
    "pycharm": {
     "name": "#%% md\n"
    }
   },
   "source": [
    "### Manuelles Parsing - Ausführungszeit im Messverlauf"
   ]
  },
  {
   "cell_type": "code",
   "execution_count": 29,
   "metadata": {
    "pycharm": {
     "name": "#%%\n"
    }
   },
   "outputs": [
    {
     "data": {
      "image/png": "[encoded data removed]",
      "text/plain": [
       "<Figure size 850.394x425.197 with 4 Axes>"
      ]
     },
     "metadata": {
      "needs_background": "light"
     },
     "output_type": "display_data"
    }
   ],
   "source": [
    "plt.subplot(2, 2, 1)\n",
    "plt.plot(manual_timer.measurements[0])\n",
    "plt.title('20 Datapoints')\n",
    "plt.xlim(1, RUNS)\n",
    "plt.xlabel('runs')\n",
    "plt.ylabel('time in ms')\n",
    "\n",
    "plt.subplot(2, 2, 2)\n",
    "plt.plot(manual_timer.measurements[1])\n",
    "plt.title('40 Datapoints')\n",
    "plt.xlim(1, RUNS)\n",
    "plt.xlabel('runs')\n",
    "plt.ylabel('time in ms')\n",
    "\n",
    "plt.subplot(2, 2, 3)\n",
    "plt.plot(manual_timer.measurements[2])\n",
    "plt.title('80 Datapoints')\n",
    "plt.xlim(1, RUNS)\n",
    "plt.xlabel('runs')\n",
    "plt.ylabel('time in ms')\n",
    "\n",
    "plt.subplot(2, 2, 4)\n",
    "plt.plot(manual_timer.measurements[3])\n",
    "plt.title('160 Datapoints')\n",
    "plt.xlim(1, RUNS)\n",
    "plt.xlabel('runs')\n",
    "plt.ylabel('time in ms')\n",
    "\n",
    "plt.rcParams['figure.figsize'] = [30 / 2.54, 15 / 2.54]\n",
    "plt.tight_layout()\n",
    "plt.show()"
   ]
  },
  {
   "cell_type": "markdown",
   "metadata": {
    "pycharm": {
     "name": "#%% md\n"
    }
   },
   "source": [
    "### Manuelles Parsing - Ergebnisse"
   ]
  },
  {
   "cell_type": "code",
   "execution_count": 30,
   "metadata": {
    "pycharm": {
     "name": "#%%\n"
    }
   },
   "outputs": [
    {
     "data": {
      "text/html": [
       "<div>\n",
       "<style scoped>\n",
       "    .dataframe tbody tr th:only-of-type {\n",
       "        vertical-align: middle;\n",
       "    }\n",
       "\n",
       "    .dataframe tbody tr th {\n",
       "        vertical-align: top;\n",
       "    }\n",
       "\n",
       "    .dataframe thead th {\n",
       "        text-align: right;\n",
       "    }\n",
       "</style>\n",
       "<table border=\"1\" class=\"dataframe\">\n",
       "  <thead>\n",
       "    <tr style=\"text-align: right;\">\n",
       "      <th></th>\n",
       "      <th>20 Datapoints</th>\n",
       "      <th>40 Datapoints</th>\n",
       "      <th>80 Datapoints</th>\n",
       "      <th>160 Datapoints</th>\n",
       "    </tr>\n",
       "  </thead>\n",
       "  <tbody>\n",
       "    <tr>\n",
       "      <th>0</th>\n",
       "      <td>2.333958</td>\n",
       "      <td>0.970458</td>\n",
       "      <td>1.304625</td>\n",
       "      <td>2.451750</td>\n",
       "    </tr>\n",
       "    <tr>\n",
       "      <th>1</th>\n",
       "      <td>0.524250</td>\n",
       "      <td>0.714791</td>\n",
       "      <td>1.153792</td>\n",
       "      <td>2.002333</td>\n",
       "    </tr>\n",
       "    <tr>\n",
       "      <th>2</th>\n",
       "      <td>0.397792</td>\n",
       "      <td>0.692291</td>\n",
       "      <td>1.143750</td>\n",
       "      <td>1.969000</td>\n",
       "    </tr>\n",
       "    <tr>\n",
       "      <th>3</th>\n",
       "      <td>0.386500</td>\n",
       "      <td>2.277334</td>\n",
       "      <td>1.146458</td>\n",
       "      <td>2.207333</td>\n",
       "    </tr>\n",
       "    <tr>\n",
       "      <th>4</th>\n",
       "      <td>0.374000</td>\n",
       "      <td>1.387083</td>\n",
       "      <td>1.051583</td>\n",
       "      <td>1.973542</td>\n",
       "    </tr>\n",
       "    <tr>\n",
       "      <th>5</th>\n",
       "      <td>0.458250</td>\n",
       "      <td>0.636209</td>\n",
       "      <td>1.105458</td>\n",
       "      <td>1.971000</td>\n",
       "    </tr>\n",
       "    <tr>\n",
       "      <th>6</th>\n",
       "      <td>0.428875</td>\n",
       "      <td>1.156500</td>\n",
       "      <td>1.181875</td>\n",
       "      <td>2.042459</td>\n",
       "    </tr>\n",
       "    <tr>\n",
       "      <th>7</th>\n",
       "      <td>0.368958</td>\n",
       "      <td>1.296708</td>\n",
       "      <td>1.046792</td>\n",
       "      <td>1.977708</td>\n",
       "    </tr>\n",
       "    <tr>\n",
       "      <th>8</th>\n",
       "      <td>0.359041</td>\n",
       "      <td>1.551500</td>\n",
       "      <td>1.102583</td>\n",
       "      <td>2.135000</td>\n",
       "    </tr>\n",
       "    <tr>\n",
       "      <th>9</th>\n",
       "      <td>0.346334</td>\n",
       "      <td>2.532042</td>\n",
       "      <td>1.045791</td>\n",
       "      <td>1.961042</td>\n",
       "    </tr>\n",
       "    <tr>\n",
       "      <th>10</th>\n",
       "      <td>0.355541</td>\n",
       "      <td>0.681708</td>\n",
       "      <td>1.121333</td>\n",
       "      <td>2.044083</td>\n",
       "    </tr>\n",
       "    <tr>\n",
       "      <th>11</th>\n",
       "      <td>0.358250</td>\n",
       "      <td>0.601875</td>\n",
       "      <td>1.037125</td>\n",
       "      <td>1.969708</td>\n",
       "    </tr>\n",
       "    <tr>\n",
       "      <th>12</th>\n",
       "      <td>0.378833</td>\n",
       "      <td>0.616417</td>\n",
       "      <td>1.132584</td>\n",
       "      <td>2.063416</td>\n",
       "    </tr>\n",
       "    <tr>\n",
       "      <th>13</th>\n",
       "      <td>0.408834</td>\n",
       "      <td>0.585250</td>\n",
       "      <td>1.062833</td>\n",
       "      <td>1.970084</td>\n",
       "    </tr>\n",
       "    <tr>\n",
       "      <th>14</th>\n",
       "      <td>0.376500</td>\n",
       "      <td>0.609917</td>\n",
       "      <td>1.123708</td>\n",
       "      <td>2.046000</td>\n",
       "    </tr>\n",
       "    <tr>\n",
       "      <th>15</th>\n",
       "      <td>0.359375</td>\n",
       "      <td>0.582250</td>\n",
       "      <td>1.059666</td>\n",
       "      <td>1.981916</td>\n",
       "    </tr>\n",
       "    <tr>\n",
       "      <th>16</th>\n",
       "      <td>0.467917</td>\n",
       "      <td>0.601583</td>\n",
       "      <td>1.080333</td>\n",
       "      <td>2.060083</td>\n",
       "    </tr>\n",
       "    <tr>\n",
       "      <th>17</th>\n",
       "      <td>0.362917</td>\n",
       "      <td>0.567417</td>\n",
       "      <td>1.000666</td>\n",
       "      <td>2.008041</td>\n",
       "    </tr>\n",
       "    <tr>\n",
       "      <th>18</th>\n",
       "      <td>0.585250</td>\n",
       "      <td>0.628041</td>\n",
       "      <td>1.057708</td>\n",
       "      <td>2.198458</td>\n",
       "    </tr>\n",
       "    <tr>\n",
       "      <th>19</th>\n",
       "      <td>0.517458</td>\n",
       "      <td>0.586084</td>\n",
       "      <td>1.052834</td>\n",
       "      <td>1.987416</td>\n",
       "    </tr>\n",
       "  </tbody>\n",
       "</table>\n",
       "</div>"
      ],
      "text/plain": [
       "    20 Datapoints  40 Datapoints  80 Datapoints  160 Datapoints\n",
       "0        2.333958       0.970458       1.304625        2.451750\n",
       "1        0.524250       0.714791       1.153792        2.002333\n",
       "2        0.397792       0.692291       1.143750        1.969000\n",
       "3        0.386500       2.277334       1.146458        2.207333\n",
       "4        0.374000       1.387083       1.051583        1.973542\n",
       "5        0.458250       0.636209       1.105458        1.971000\n",
       "6        0.428875       1.156500       1.181875        2.042459\n",
       "7        0.368958       1.296708       1.046792        1.977708\n",
       "8        0.359041       1.551500       1.102583        2.135000\n",
       "9        0.346334       2.532042       1.045791        1.961042\n",
       "10       0.355541       0.681708       1.121333        2.044083\n",
       "11       0.358250       0.601875       1.037125        1.969708\n",
       "12       0.378833       0.616417       1.132584        2.063416\n",
       "13       0.408834       0.585250       1.062833        1.970084\n",
       "14       0.376500       0.609917       1.123708        2.046000\n",
       "15       0.359375       0.582250       1.059666        1.981916\n",
       "16       0.467917       0.601583       1.080333        2.060083\n",
       "17       0.362917       0.567417       1.000666        2.008041\n",
       "18       0.585250       0.628041       1.057708        2.198458\n",
       "19       0.517458       0.586084       1.052834        1.987416"
      ]
     },
     "execution_count": 30,
     "metadata": {},
     "output_type": "execute_result"
    }
   ],
   "source": [
    "df = pd.DataFrame(manual_timer.measurements)\n",
    "df.columns = ['20 Datapoints', '40 Datapoints', '80 Datapoints', '160 Datapoints']\n",
    "df"
   ]
  },
  {
   "cell_type": "markdown",
   "metadata": {
    "pycharm": {
     "name": "#%% md\n"
    }
   },
   "source": [
    "## Pyparsing\n",
    "\n",
    "Ein weiter Ansatz zur Verarbeitung der Konfigurationsdateien in der definierten DSL stellt die Verwendung der *pyparsing* Bibliothek dar. Es handelt sich dabei um eine Bibliothek zur Definition und Verarbeitung einfacher Grammatiken. Eine Besonderheit stellt dabei die direkte Definition der Grammatik als python Code dar, welcher einfach zu lesen ist und sich nahtlos in die Definition des Parsers integriert. Die Grammatik für die Libg3n DSL kann so mit nur wenigen Zeilen python Code definiert werden:\n",
    "\n",
    "```python\n",
    "function = Literal('function') + Word(alphanums) + Opt(':' + Word(alphanums)) + Word(alphanums)\n",
    "property = Literal('property') + Word(alphanums) + Literal(':') + Word(alphanums)\n",
    "cls = Literal('class') + Word(alphanums) + Opt(':' + Word(alphanums)) + ZeroOrMore(property)\n",
    "grammar = OneOrMore(function ^ cls)\n",
    "```"
   ]
  },
  {
   "cell_type": "markdown",
   "source": [
    "### Pyparsing - Durchführung der Messungen"
   ],
   "metadata": {
    "collapsed": false
   }
  },
  {
   "cell_type": "code",
   "execution_count": 31,
   "metadata": {
    "pycharm": {
     "name": "#%%\n"
    }
   },
   "outputs": [
    {
     "name": "stdout",
     "output_type": "stream",
     "text": [
      "-----------------Timer: Pyparsing-----------------\n",
      "Finished: True\n",
      "Sample Sets: 4\n",
      "Measurements: 80\n",
      "Measured Times: {0: [3.2524169998850994, 3.1476249998831918, 2.429042000130721, 2.4144580002030125, 2.373874999875625, 5.665041000156634, 3.501332999803708, 4.405624999890279, 2.4345419999463047, 2.9748330000529677, 3.7193749999460124, 2.3898750000626023, 2.3811250000562723, 2.4906250000640284, 5.688458000122409, 4.188250000197513, 3.1435000000783475, 3.0540420000306767, 2.396999999973559, 2.388791000157653], 1: [4.995667000002868, 4.811999999901673, 11.596833000112383, 10.095874999933585, 5.4874170000402955, 6.808207999938531, 6.080083000142622, 6.773457999997845, 6.900707999875522, 4.810834000181785, 4.749833999994735, 5.035040999928242, 4.753583000137951, 8.32304200002909, 16.745624999884967, 5.9475420000580925, 9.066625000059503, 15.271542000164118, 6.408749999991414, 8.685582999987673], 2: [17.386125000030006, 13.08333300016784, 10.397042000022338, 9.455042000126923, 9.430250000150409, 9.411583000201063, 9.403291000126046, 9.706875000119908, 9.661083000082726, 9.303707999833932, 9.035291999907713, 8.886625000059212, 8.781167000051937, 8.77683400017304, 8.680875000209198, 8.700834000137547, 8.65412500002094, 8.627291000038895, 8.865958000114915, 8.661459000222749], 3: [17.371249999996508, 17.808457999990424, 17.459457999848382, 17.338291999976718, 17.340250000188462, 17.36720899998545, 17.380084000024, 17.514540999854944, 17.346374999988257, 17.2628339998937, 17.369334000022718, 17.65862500019466, 17.275333000043247, 17.424249999976382, 17.336833999934242, 17.404208000016297, 17.702584000062416, 17.388833000040904, 17.330291999996916, 17.384125000035056]}\n",
      "\n",
      "\n"
     ]
    }
   ],
   "source": [
    "from parse_pyparsing.parser import parse as parse_pyparsing\n",
    "\n",
    "# Pyparsing\n",
    "pyparsing_timer = PerformanceTimer('Pyparsing', RUNS)\n",
    "pyparsing_timer.measure_function(parse_pyparsing, './samples/sample.gen', './samples/sample-40.gen',\n",
    "                                 './samples/sample-80.gen', './samples/sample-160.gen')\n",
    "pyparsing_timer.print()"
   ]
  },
  {
   "cell_type": "markdown",
   "metadata": {},
   "source": [
    "### Pyparsing - Ausführungszeit im Messverlauf"
   ]
  },
  {
   "cell_type": "code",
   "execution_count": 32,
   "metadata": {
    "pycharm": {
     "name": "#%%\n"
    }
   },
   "outputs": [
    {
     "data": {
      "image/png": "[encoded data removed]",
      "text/plain": [
       "<Figure size 850.394x425.197 with 4 Axes>"
      ]
     },
     "metadata": {
      "needs_background": "light"
     },
     "output_type": "display_data"
    }
   ],
   "source": [
    "plt.subplot(2, 2, 1)\n",
    "plt.plot(pyparsing_timer.measurements[0])\n",
    "plt.title('20 Datapoints')\n",
    "plt.xlim(1, RUNS)\n",
    "plt.xlabel('runs')\n",
    "plt.ylabel('time in ms')\n",
    "\n",
    "plt.subplot(2, 2, 2)\n",
    "plt.plot(pyparsing_timer.measurements[1])\n",
    "plt.title('40 Datapoints')\n",
    "plt.xlim(1, RUNS)\n",
    "plt.xlabel('runs')\n",
    "plt.ylabel('time in ms')\n",
    "\n",
    "plt.subplot(2, 2, 3)\n",
    "plt.plot(pyparsing_timer.measurements[2])\n",
    "plt.title('80 Datapoints')\n",
    "plt.xlim(1, RUNS)\n",
    "plt.xlabel('runs')\n",
    "plt.ylabel('time in ms')\n",
    "\n",
    "plt.subplot(2, 2, 4)\n",
    "plt.plot(pyparsing_timer.measurements[3])\n",
    "plt.title('160 Datapoints')\n",
    "plt.xlim(1, RUNS)\n",
    "plt.xlabel('runs')\n",
    "plt.ylabel('time in ms')\n",
    "\n",
    "plt.rcParams['figure.figsize'] = [30 / 2.54, 15 / 2.54]\n",
    "plt.tight_layout()\n",
    "plt.show()"
   ]
  },
  {
   "cell_type": "markdown",
   "metadata": {},
   "source": [
    "### Pyparsing - Ergebnisse"
   ]
  },
  {
   "cell_type": "code",
   "execution_count": 33,
   "metadata": {
    "pycharm": {
     "name": "#%%\n"
    }
   },
   "outputs": [
    {
     "data": {
      "text/html": [
       "<div>\n",
       "<style scoped>\n",
       "    .dataframe tbody tr th:only-of-type {\n",
       "        vertical-align: middle;\n",
       "    }\n",
       "\n",
       "    .dataframe tbody tr th {\n",
       "        vertical-align: top;\n",
       "    }\n",
       "\n",
       "    .dataframe thead th {\n",
       "        text-align: right;\n",
       "    }\n",
       "</style>\n",
       "<table border=\"1\" class=\"dataframe\">\n",
       "  <thead>\n",
       "    <tr style=\"text-align: right;\">\n",
       "      <th></th>\n",
       "      <th>20 Datapoints</th>\n",
       "      <th>40 Datapoints</th>\n",
       "      <th>80 Datapoints</th>\n",
       "      <th>160 Datapoints</th>\n",
       "    </tr>\n",
       "  </thead>\n",
       "  <tbody>\n",
       "    <tr>\n",
       "      <th>0</th>\n",
       "      <td>3.252417</td>\n",
       "      <td>4.995667</td>\n",
       "      <td>17.386125</td>\n",
       "      <td>17.371250</td>\n",
       "    </tr>\n",
       "    <tr>\n",
       "      <th>1</th>\n",
       "      <td>3.147625</td>\n",
       "      <td>4.812000</td>\n",
       "      <td>13.083333</td>\n",
       "      <td>17.808458</td>\n",
       "    </tr>\n",
       "    <tr>\n",
       "      <th>2</th>\n",
       "      <td>2.429042</td>\n",
       "      <td>11.596833</td>\n",
       "      <td>10.397042</td>\n",
       "      <td>17.459458</td>\n",
       "    </tr>\n",
       "    <tr>\n",
       "      <th>3</th>\n",
       "      <td>2.414458</td>\n",
       "      <td>10.095875</td>\n",
       "      <td>9.455042</td>\n",
       "      <td>17.338292</td>\n",
       "    </tr>\n",
       "    <tr>\n",
       "      <th>4</th>\n",
       "      <td>2.373875</td>\n",
       "      <td>5.487417</td>\n",
       "      <td>9.430250</td>\n",
       "      <td>17.340250</td>\n",
       "    </tr>\n",
       "    <tr>\n",
       "      <th>5</th>\n",
       "      <td>5.665041</td>\n",
       "      <td>6.808208</td>\n",
       "      <td>9.411583</td>\n",
       "      <td>17.367209</td>\n",
       "    </tr>\n",
       "    <tr>\n",
       "      <th>6</th>\n",
       "      <td>3.501333</td>\n",
       "      <td>6.080083</td>\n",
       "      <td>9.403291</td>\n",
       "      <td>17.380084</td>\n",
       "    </tr>\n",
       "    <tr>\n",
       "      <th>7</th>\n",
       "      <td>4.405625</td>\n",
       "      <td>6.773458</td>\n",
       "      <td>9.706875</td>\n",
       "      <td>17.514541</td>\n",
       "    </tr>\n",
       "    <tr>\n",
       "      <th>8</th>\n",
       "      <td>2.434542</td>\n",
       "      <td>6.900708</td>\n",
       "      <td>9.661083</td>\n",
       "      <td>17.346375</td>\n",
       "    </tr>\n",
       "    <tr>\n",
       "      <th>9</th>\n",
       "      <td>2.974833</td>\n",
       "      <td>4.810834</td>\n",
       "      <td>9.303708</td>\n",
       "      <td>17.262834</td>\n",
       "    </tr>\n",
       "    <tr>\n",
       "      <th>10</th>\n",
       "      <td>3.719375</td>\n",
       "      <td>4.749834</td>\n",
       "      <td>9.035292</td>\n",
       "      <td>17.369334</td>\n",
       "    </tr>\n",
       "    <tr>\n",
       "      <th>11</th>\n",
       "      <td>2.389875</td>\n",
       "      <td>5.035041</td>\n",
       "      <td>8.886625</td>\n",
       "      <td>17.658625</td>\n",
       "    </tr>\n",
       "    <tr>\n",
       "      <th>12</th>\n",
       "      <td>2.381125</td>\n",
       "      <td>4.753583</td>\n",
       "      <td>8.781167</td>\n",
       "      <td>17.275333</td>\n",
       "    </tr>\n",
       "    <tr>\n",
       "      <th>13</th>\n",
       "      <td>2.490625</td>\n",
       "      <td>8.323042</td>\n",
       "      <td>8.776834</td>\n",
       "      <td>17.424250</td>\n",
       "    </tr>\n",
       "    <tr>\n",
       "      <th>14</th>\n",
       "      <td>5.688458</td>\n",
       "      <td>16.745625</td>\n",
       "      <td>8.680875</td>\n",
       "      <td>17.336834</td>\n",
       "    </tr>\n",
       "    <tr>\n",
       "      <th>15</th>\n",
       "      <td>4.188250</td>\n",
       "      <td>5.947542</td>\n",
       "      <td>8.700834</td>\n",
       "      <td>17.404208</td>\n",
       "    </tr>\n",
       "    <tr>\n",
       "      <th>16</th>\n",
       "      <td>3.143500</td>\n",
       "      <td>9.066625</td>\n",
       "      <td>8.654125</td>\n",
       "      <td>17.702584</td>\n",
       "    </tr>\n",
       "    <tr>\n",
       "      <th>17</th>\n",
       "      <td>3.054042</td>\n",
       "      <td>15.271542</td>\n",
       "      <td>8.627291</td>\n",
       "      <td>17.388833</td>\n",
       "    </tr>\n",
       "    <tr>\n",
       "      <th>18</th>\n",
       "      <td>2.397000</td>\n",
       "      <td>6.408750</td>\n",
       "      <td>8.865958</td>\n",
       "      <td>17.330292</td>\n",
       "    </tr>\n",
       "    <tr>\n",
       "      <th>19</th>\n",
       "      <td>2.388791</td>\n",
       "      <td>8.685583</td>\n",
       "      <td>8.661459</td>\n",
       "      <td>17.384125</td>\n",
       "    </tr>\n",
       "  </tbody>\n",
       "</table>\n",
       "</div>"
      ],
      "text/plain": [
       "    20 Datapoints  40 Datapoints  80 Datapoints  160 Datapoints\n",
       "0        3.252417       4.995667      17.386125       17.371250\n",
       "1        3.147625       4.812000      13.083333       17.808458\n",
       "2        2.429042      11.596833      10.397042       17.459458\n",
       "3        2.414458      10.095875       9.455042       17.338292\n",
       "4        2.373875       5.487417       9.430250       17.340250\n",
       "5        5.665041       6.808208       9.411583       17.367209\n",
       "6        3.501333       6.080083       9.403291       17.380084\n",
       "7        4.405625       6.773458       9.706875       17.514541\n",
       "8        2.434542       6.900708       9.661083       17.346375\n",
       "9        2.974833       4.810834       9.303708       17.262834\n",
       "10       3.719375       4.749834       9.035292       17.369334\n",
       "11       2.389875       5.035041       8.886625       17.658625\n",
       "12       2.381125       4.753583       8.781167       17.275333\n",
       "13       2.490625       8.323042       8.776834       17.424250\n",
       "14       5.688458      16.745625       8.680875       17.336834\n",
       "15       4.188250       5.947542       8.700834       17.404208\n",
       "16       3.143500       9.066625       8.654125       17.702584\n",
       "17       3.054042      15.271542       8.627291       17.388833\n",
       "18       2.397000       6.408750       8.865958       17.330292\n",
       "19       2.388791       8.685583       8.661459       17.384125"
      ]
     },
     "execution_count": 33,
     "metadata": {},
     "output_type": "execute_result"
    }
   ],
   "source": [
    "df = pd.DataFrame(pyparsing_timer.measurements)\n",
    "df.columns = ['20 Datapoints', '40 Datapoints', '80 Datapoints', '160 Datapoints']\n",
    "df"
   ]
  },
  {
   "cell_type": "markdown",
   "metadata": {
    "pycharm": {
     "name": "#%% md\n"
    }
   },
   "source": [
    "## YAML Parsing"
   ]
  },
  {
   "cell_type": "code",
   "execution_count": 34,
   "metadata": {
    "pycharm": {
     "name": "#%%\n"
    }
   },
   "outputs": [
    {
     "name": "stdout",
     "output_type": "stream",
     "text": [
      "---------------Timer: YAML Parsing----------------\n",
      "Finished: True\n",
      "Sample Sets: 4\n",
      "Measurements: 80\n",
      "Measured Times: {0: [10.130707999906008, 8.419750000030035, 8.157375000109823, 7.8233750000435975, 7.933374999993248, 7.832582999981241, 7.7690000000529835, 7.812834000105795, 8.685000000014043, 8.887166000022262, 8.725040999934208, 7.803125000009459, 8.01695799987101, 7.8147090000584285, 7.806000000073254, 7.52337499989153, 7.533041999977286, 7.49833400004718, 7.556541999974797, 7.696542000076079], 1: [15.486292000105095, 74.43137499990371, 14.721957999881852, 15.642040999864548, 14.771875000178625, 15.09816700013289, 14.886958000033701, 14.729959000078452, 15.025915999785866, 16.098249999913605, 14.833250000037879, 14.940207999870836, 15.125291000003926, 14.827416999878551, 14.79212499998539, 15.060208999784663, 14.773166999930254, 14.926458999980241, 16.784333000032348, 15.247000000044864], 2: [29.98533300001327, 28.359832999967693, 28.426250000165965, 28.260249999902953, 28.48629099980826, 28.30041699985486, 28.972916999919107, 28.32891700018081, 28.58820899996317, 29.18491700006598, 28.642875000059576, 28.82812500001819, 28.511457999911727, 28.69187500004955, 62.127207999992606, 30.134625000073356, 30.2961250001772, 30.968125000072177, 29.284000000188826, 28.407207999862294], 3: [58.24387500001649, 56.97466699984943, 58.84429100001398, 86.4997090000088, 56.92375000012362, 56.981666999945446, 56.90895900011128, 56.91441599992686, 56.88224999994418, 87.90825000005498, 56.95141599994713, 56.91495800010671, 56.93437499985521, 57.20229100006691, 88.89170800011925, 57.19283300004463, 56.91729199998008, 57.1102090000295, 57.019416999992245, 56.85970800004725]}\n",
      "\n",
      "\n"
     ]
    }
   ],
   "source": [
    "from parse_yaml.parser import parse as parse_yaml\n",
    "\n",
    "#YAML\n",
    "yaml_timer = PerformanceTimer('YAML Parsing', RUNS)\n",
    "yaml_timer.measure_function(parse_yaml, './samples/sample.yaml', './samples/sample-40.yaml', './samples/sample-80.yaml',\n",
    "                            './samples/sample-160.yaml')\n",
    "yaml_timer.print()"
   ]
  },
  {
   "cell_type": "markdown",
   "metadata": {},
   "source": [
    "### Function execution time development"
   ]
  },
  {
   "cell_type": "code",
   "execution_count": 35,
   "metadata": {
    "pycharm": {
     "name": "#%%\n"
    }
   },
   "outputs": [
    {
     "data": {
      "image/png": "[encoded data removed]",
      "text/plain": [
       "<Figure size 850.394x425.197 with 4 Axes>"
      ]
     },
     "metadata": {
      "needs_background": "light"
     },
     "output_type": "display_data"
    }
   ],
   "source": [
    "plt.subplot(2, 2, 1)\n",
    "plt.plot(yaml_timer.measurements[0])\n",
    "plt.title('20 Datapoints')\n",
    "plt.xlim(1, RUNS)\n",
    "plt.xlabel('runs')\n",
    "plt.ylabel('time in ms')\n",
    "\n",
    "plt.subplot(2, 2, 2)\n",
    "plt.plot(yaml_timer.measurements[1])\n",
    "plt.title('40 Datapoints')\n",
    "plt.xlim(1, RUNS)\n",
    "plt.xlabel('runs')\n",
    "plt.ylabel('time in ms')\n",
    "\n",
    "plt.subplot(2, 2, 3)\n",
    "plt.plot(yaml_timer.measurements[2])\n",
    "plt.title('80 Datapoints')\n",
    "plt.xlim(1, RUNS)\n",
    "plt.xlabel('runs')\n",
    "plt.ylabel('time in ms')\n",
    "\n",
    "plt.subplot(2, 2, 4)\n",
    "plt.plot(yaml_timer.measurements[3])\n",
    "plt.title('160 Datapoints')\n",
    "plt.xlim(1, RUNS)\n",
    "plt.xlabel('runs')\n",
    "plt.ylabel('time in ms')\n",
    "\n",
    "plt.rcParams['figure.figsize'] = [30 / 2.54, 15 / 2.54]\n",
    "plt.tight_layout()\n",
    "plt.show()"
   ]
  },
  {
   "cell_type": "markdown",
   "metadata": {},
   "source": [
    "### Individual function execution time results"
   ]
  },
  {
   "cell_type": "code",
   "execution_count": 36,
   "metadata": {
    "pycharm": {
     "name": "#%%\n"
    }
   },
   "outputs": [
    {
     "data": {
      "text/html": [
       "<div>\n",
       "<style scoped>\n",
       "    .dataframe tbody tr th:only-of-type {\n",
       "        vertical-align: middle;\n",
       "    }\n",
       "\n",
       "    .dataframe tbody tr th {\n",
       "        vertical-align: top;\n",
       "    }\n",
       "\n",
       "    .dataframe thead th {\n",
       "        text-align: right;\n",
       "    }\n",
       "</style>\n",
       "<table border=\"1\" class=\"dataframe\">\n",
       "  <thead>\n",
       "    <tr style=\"text-align: right;\">\n",
       "      <th></th>\n",
       "      <th>20 Datapoints</th>\n",
       "      <th>40 Datapoints</th>\n",
       "      <th>80 Datapoints</th>\n",
       "      <th>160 Datapoints</th>\n",
       "    </tr>\n",
       "  </thead>\n",
       "  <tbody>\n",
       "    <tr>\n",
       "      <th>0</th>\n",
       "      <td>10.130708</td>\n",
       "      <td>15.486292</td>\n",
       "      <td>29.985333</td>\n",
       "      <td>58.243875</td>\n",
       "    </tr>\n",
       "    <tr>\n",
       "      <th>1</th>\n",
       "      <td>8.419750</td>\n",
       "      <td>74.431375</td>\n",
       "      <td>28.359833</td>\n",
       "      <td>56.974667</td>\n",
       "    </tr>\n",
       "    <tr>\n",
       "      <th>2</th>\n",
       "      <td>8.157375</td>\n",
       "      <td>14.721958</td>\n",
       "      <td>28.426250</td>\n",
       "      <td>58.844291</td>\n",
       "    </tr>\n",
       "    <tr>\n",
       "      <th>3</th>\n",
       "      <td>7.823375</td>\n",
       "      <td>15.642041</td>\n",
       "      <td>28.260250</td>\n",
       "      <td>86.499709</td>\n",
       "    </tr>\n",
       "    <tr>\n",
       "      <th>4</th>\n",
       "      <td>7.933375</td>\n",
       "      <td>14.771875</td>\n",
       "      <td>28.486291</td>\n",
       "      <td>56.923750</td>\n",
       "    </tr>\n",
       "    <tr>\n",
       "      <th>5</th>\n",
       "      <td>7.832583</td>\n",
       "      <td>15.098167</td>\n",
       "      <td>28.300417</td>\n",
       "      <td>56.981667</td>\n",
       "    </tr>\n",
       "    <tr>\n",
       "      <th>6</th>\n",
       "      <td>7.769000</td>\n",
       "      <td>14.886958</td>\n",
       "      <td>28.972917</td>\n",
       "      <td>56.908959</td>\n",
       "    </tr>\n",
       "    <tr>\n",
       "      <th>7</th>\n",
       "      <td>7.812834</td>\n",
       "      <td>14.729959</td>\n",
       "      <td>28.328917</td>\n",
       "      <td>56.914416</td>\n",
       "    </tr>\n",
       "    <tr>\n",
       "      <th>8</th>\n",
       "      <td>8.685000</td>\n",
       "      <td>15.025916</td>\n",
       "      <td>28.588209</td>\n",
       "      <td>56.882250</td>\n",
       "    </tr>\n",
       "    <tr>\n",
       "      <th>9</th>\n",
       "      <td>8.887166</td>\n",
       "      <td>16.098250</td>\n",
       "      <td>29.184917</td>\n",
       "      <td>87.908250</td>\n",
       "    </tr>\n",
       "    <tr>\n",
       "      <th>10</th>\n",
       "      <td>8.725041</td>\n",
       "      <td>14.833250</td>\n",
       "      <td>28.642875</td>\n",
       "      <td>56.951416</td>\n",
       "    </tr>\n",
       "    <tr>\n",
       "      <th>11</th>\n",
       "      <td>7.803125</td>\n",
       "      <td>14.940208</td>\n",
       "      <td>28.828125</td>\n",
       "      <td>56.914958</td>\n",
       "    </tr>\n",
       "    <tr>\n",
       "      <th>12</th>\n",
       "      <td>8.016958</td>\n",
       "      <td>15.125291</td>\n",
       "      <td>28.511458</td>\n",
       "      <td>56.934375</td>\n",
       "    </tr>\n",
       "    <tr>\n",
       "      <th>13</th>\n",
       "      <td>7.814709</td>\n",
       "      <td>14.827417</td>\n",
       "      <td>28.691875</td>\n",
       "      <td>57.202291</td>\n",
       "    </tr>\n",
       "    <tr>\n",
       "      <th>14</th>\n",
       "      <td>7.806000</td>\n",
       "      <td>14.792125</td>\n",
       "      <td>62.127208</td>\n",
       "      <td>88.891708</td>\n",
       "    </tr>\n",
       "    <tr>\n",
       "      <th>15</th>\n",
       "      <td>7.523375</td>\n",
       "      <td>15.060209</td>\n",
       "      <td>30.134625</td>\n",
       "      <td>57.192833</td>\n",
       "    </tr>\n",
       "    <tr>\n",
       "      <th>16</th>\n",
       "      <td>7.533042</td>\n",
       "      <td>14.773167</td>\n",
       "      <td>30.296125</td>\n",
       "      <td>56.917292</td>\n",
       "    </tr>\n",
       "    <tr>\n",
       "      <th>17</th>\n",
       "      <td>7.498334</td>\n",
       "      <td>14.926459</td>\n",
       "      <td>30.968125</td>\n",
       "      <td>57.110209</td>\n",
       "    </tr>\n",
       "    <tr>\n",
       "      <th>18</th>\n",
       "      <td>7.556542</td>\n",
       "      <td>16.784333</td>\n",
       "      <td>29.284000</td>\n",
       "      <td>57.019417</td>\n",
       "    </tr>\n",
       "    <tr>\n",
       "      <th>19</th>\n",
       "      <td>7.696542</td>\n",
       "      <td>15.247000</td>\n",
       "      <td>28.407208</td>\n",
       "      <td>56.859708</td>\n",
       "    </tr>\n",
       "  </tbody>\n",
       "</table>\n",
       "</div>"
      ],
      "text/plain": [
       "    20 Datapoints  40 Datapoints  80 Datapoints  160 Datapoints\n",
       "0       10.130708      15.486292      29.985333       58.243875\n",
       "1        8.419750      74.431375      28.359833       56.974667\n",
       "2        8.157375      14.721958      28.426250       58.844291\n",
       "3        7.823375      15.642041      28.260250       86.499709\n",
       "4        7.933375      14.771875      28.486291       56.923750\n",
       "5        7.832583      15.098167      28.300417       56.981667\n",
       "6        7.769000      14.886958      28.972917       56.908959\n",
       "7        7.812834      14.729959      28.328917       56.914416\n",
       "8        8.685000      15.025916      28.588209       56.882250\n",
       "9        8.887166      16.098250      29.184917       87.908250\n",
       "10       8.725041      14.833250      28.642875       56.951416\n",
       "11       7.803125      14.940208      28.828125       56.914958\n",
       "12       8.016958      15.125291      28.511458       56.934375\n",
       "13       7.814709      14.827417      28.691875       57.202291\n",
       "14       7.806000      14.792125      62.127208       88.891708\n",
       "15       7.523375      15.060209      30.134625       57.192833\n",
       "16       7.533042      14.773167      30.296125       56.917292\n",
       "17       7.498334      14.926459      30.968125       57.110209\n",
       "18       7.556542      16.784333      29.284000       57.019417\n",
       "19       7.696542      15.247000      28.407208       56.859708"
      ]
     },
     "execution_count": 36,
     "metadata": {},
     "output_type": "execute_result"
    }
   ],
   "source": [
    "df = pd.DataFrame(yaml_timer.measurements)\n",
    "df.columns = ['20 Datapoints', '40 Datapoints', '80 Datapoints', '160 Datapoints']\n",
    "df"
   ]
  },
  {
   "cell_type": "markdown",
   "metadata": {
    "pycharm": {
     "name": "#%% md\n"
    }
   },
   "source": [
    "## XML Parsing"
   ]
  },
  {
   "cell_type": "code",
   "execution_count": 37,
   "metadata": {
    "pycharm": {
     "name": "#%%\n"
    }
   },
   "outputs": [
    {
     "name": "stdout",
     "output_type": "stream",
     "text": [
      "----------------Timer: XML Parsing----------------\n",
      "Finished: True\n",
      "Sample Sets: 4\n",
      "Measurements: 80\n",
      "Measured Times: {0: [1.24070800006848, 0.1318340000580065, 0.09770900010153127, 0.31420899995282525, 0.11433399981797265, 0.6731660000696138, 0.10866599996006698, 0.09591699995326053, 34.85795899996447, 0.1462080001601862, 0.09691700006442261, 0.09350000004815229, 0.08983299994724803, 0.08887500007404014, 0.08891700008462067, 0.08779099994171702, 0.08816600006866793, 0.08712499993634992, 0.08683300006850914, 0.08620899984634889], 1: [0.27154200006407336, 0.17124999999396096, 0.16249999998763087, 0.1831249999213469, 0.1576249999288848, 0.15483300012419932, 0.17695799988359795, 0.1541250001082517, 0.15295899993361672, 0.17491600010544062, 0.15366699994956434, 0.154249999923195, 0.176250000095024, 0.15454200001840945, 0.1537919999918813, 0.17595799999980954, 0.16058300002441683, 0.1539580000553542, 0.17508399992038903, 0.15387500002361776], 2: [0.3852089998872543, 0.3187080001225695, 0.3121249999367137, 0.31083399994713545, 0.36641600013354036, 0.3129169999738224, 0.3112910001163982, 0.31362499998977, 0.3109589999894524, 0.3110840000317694, 0.310416999809604, 0.30962499999986903, 0.31029099977786245, 0.3108749999682914, 0.31049999984134047, 0.3110419997938152, 0.3427910000937118, 0.3185000000485161, 0.31012499994176324, 0.3110830000423448], 3: [0.8410840000578901, 0.64812499999789, 0.7110829999419366, 0.618374999930893, 0.615625000136788, 0.6205409999893163, 0.7166670000060549, 0.6279159999849071, 0.6160420000469458, 0.6183750001582666, 0.7014999998773419, 0.6427079999866692, 0.619165999978577, 0.6184579999626294, 0.7053330000417191, 0.6185419999837904, 0.6152500000098371, 0.6209999999100546, 0.7035839998934534, 0.7669999999961874]}\n",
      "\n",
      "\n"
     ]
    }
   ],
   "source": [
    "from parse_xml.parser import parse as parse_xml\n",
    "\n",
    "#XML\n",
    "xml_timer = PerformanceTimer('XML Parsing', RUNS)\n",
    "xml_timer.measure_function(parse_xml, './samples/sample.xml', './samples/sample-40.xml', './samples/sample-80.xml',\n",
    "                           './samples/sample-160.xml')\n",
    "xml_timer.print()"
   ]
  },
  {
   "cell_type": "markdown",
   "metadata": {},
   "source": [
    "### Function execution time development"
   ]
  },
  {
   "cell_type": "code",
   "execution_count": 38,
   "metadata": {
    "pycharm": {
     "name": "#%%\n"
    }
   },
   "outputs": [
    {
     "data": {
      "image/png": "[encoded data removed]",
      "text/plain": [
       "<Figure size 850.394x425.197 with 4 Axes>"
      ]
     },
     "metadata": {
      "needs_background": "light"
     },
     "output_type": "display_data"
    }
   ],
   "source": [
    "plt.subplot(2, 2, 1)\n",
    "plt.plot(xml_timer.measurements[0])\n",
    "plt.title('20 Datapoints')\n",
    "plt.xlim(1, RUNS)\n",
    "plt.xlabel('runs')\n",
    "plt.ylabel('time in ms')\n",
    "\n",
    "plt.subplot(2, 2, 2)\n",
    "plt.plot(xml_timer.measurements[1])\n",
    "plt.title('40 Datapoints')\n",
    "plt.xlim(1, RUNS)\n",
    "plt.xlabel('runs')\n",
    "plt.ylabel('time in ms')\n",
    "\n",
    "plt.subplot(2, 2, 3)\n",
    "plt.plot(xml_timer.measurements[2])\n",
    "plt.title('80 Datapoints')\n",
    "plt.xlim(1, RUNS)\n",
    "plt.xlabel('runs')\n",
    "plt.ylabel('time in ms')\n",
    "\n",
    "plt.subplot(2, 2, 4)\n",
    "plt.plot(xml_timer.measurements[3])\n",
    "plt.title('160 Datapoints')\n",
    "plt.xlim(1, RUNS)\n",
    "plt.xlabel('runs')\n",
    "plt.ylabel('time in ms')\n",
    "\n",
    "plt.rcParams['figure.figsize'] = [30 / 2.54, 15 / 2.54]\n",
    "plt.tight_layout()\n",
    "plt.show()"
   ]
  },
  {
   "cell_type": "markdown",
   "metadata": {},
   "source": [
    "### Individual function execution time results"
   ]
  },
  {
   "cell_type": "code",
   "execution_count": 39,
   "metadata": {
    "pycharm": {
     "name": "#%%\n"
    }
   },
   "outputs": [
    {
     "data": {
      "text/html": [
       "<div>\n",
       "<style scoped>\n",
       "    .dataframe tbody tr th:only-of-type {\n",
       "        vertical-align: middle;\n",
       "    }\n",
       "\n",
       "    .dataframe tbody tr th {\n",
       "        vertical-align: top;\n",
       "    }\n",
       "\n",
       "    .dataframe thead th {\n",
       "        text-align: right;\n",
       "    }\n",
       "</style>\n",
       "<table border=\"1\" class=\"dataframe\">\n",
       "  <thead>\n",
       "    <tr style=\"text-align: right;\">\n",
       "      <th></th>\n",
       "      <th>20 Datapoints</th>\n",
       "      <th>40 Datapoints</th>\n",
       "      <th>80 Datapoints</th>\n",
       "      <th>160 Datapoints</th>\n",
       "    </tr>\n",
       "  </thead>\n",
       "  <tbody>\n",
       "    <tr>\n",
       "      <th>0</th>\n",
       "      <td>1.240708</td>\n",
       "      <td>0.271542</td>\n",
       "      <td>0.385209</td>\n",
       "      <td>0.841084</td>\n",
       "    </tr>\n",
       "    <tr>\n",
       "      <th>1</th>\n",
       "      <td>0.131834</td>\n",
       "      <td>0.171250</td>\n",
       "      <td>0.318708</td>\n",
       "      <td>0.648125</td>\n",
       "    </tr>\n",
       "    <tr>\n",
       "      <th>2</th>\n",
       "      <td>0.097709</td>\n",
       "      <td>0.162500</td>\n",
       "      <td>0.312125</td>\n",
       "      <td>0.711083</td>\n",
       "    </tr>\n",
       "    <tr>\n",
       "      <th>3</th>\n",
       "      <td>0.314209</td>\n",
       "      <td>0.183125</td>\n",
       "      <td>0.310834</td>\n",
       "      <td>0.618375</td>\n",
       "    </tr>\n",
       "    <tr>\n",
       "      <th>4</th>\n",
       "      <td>0.114334</td>\n",
       "      <td>0.157625</td>\n",
       "      <td>0.366416</td>\n",
       "      <td>0.615625</td>\n",
       "    </tr>\n",
       "    <tr>\n",
       "      <th>5</th>\n",
       "      <td>0.673166</td>\n",
       "      <td>0.154833</td>\n",
       "      <td>0.312917</td>\n",
       "      <td>0.620541</td>\n",
       "    </tr>\n",
       "    <tr>\n",
       "      <th>6</th>\n",
       "      <td>0.108666</td>\n",
       "      <td>0.176958</td>\n",
       "      <td>0.311291</td>\n",
       "      <td>0.716667</td>\n",
       "    </tr>\n",
       "    <tr>\n",
       "      <th>7</th>\n",
       "      <td>0.095917</td>\n",
       "      <td>0.154125</td>\n",
       "      <td>0.313625</td>\n",
       "      <td>0.627916</td>\n",
       "    </tr>\n",
       "    <tr>\n",
       "      <th>8</th>\n",
       "      <td>34.857959</td>\n",
       "      <td>0.152959</td>\n",
       "      <td>0.310959</td>\n",
       "      <td>0.616042</td>\n",
       "    </tr>\n",
       "    <tr>\n",
       "      <th>9</th>\n",
       "      <td>0.146208</td>\n",
       "      <td>0.174916</td>\n",
       "      <td>0.311084</td>\n",
       "      <td>0.618375</td>\n",
       "    </tr>\n",
       "    <tr>\n",
       "      <th>10</th>\n",
       "      <td>0.096917</td>\n",
       "      <td>0.153667</td>\n",
       "      <td>0.310417</td>\n",
       "      <td>0.701500</td>\n",
       "    </tr>\n",
       "    <tr>\n",
       "      <th>11</th>\n",
       "      <td>0.093500</td>\n",
       "      <td>0.154250</td>\n",
       "      <td>0.309625</td>\n",
       "      <td>0.642708</td>\n",
       "    </tr>\n",
       "    <tr>\n",
       "      <th>12</th>\n",
       "      <td>0.089833</td>\n",
       "      <td>0.176250</td>\n",
       "      <td>0.310291</td>\n",
       "      <td>0.619166</td>\n",
       "    </tr>\n",
       "    <tr>\n",
       "      <th>13</th>\n",
       "      <td>0.088875</td>\n",
       "      <td>0.154542</td>\n",
       "      <td>0.310875</td>\n",
       "      <td>0.618458</td>\n",
       "    </tr>\n",
       "    <tr>\n",
       "      <th>14</th>\n",
       "      <td>0.088917</td>\n",
       "      <td>0.153792</td>\n",
       "      <td>0.310500</td>\n",
       "      <td>0.705333</td>\n",
       "    </tr>\n",
       "    <tr>\n",
       "      <th>15</th>\n",
       "      <td>0.087791</td>\n",
       "      <td>0.175958</td>\n",
       "      <td>0.311042</td>\n",
       "      <td>0.618542</td>\n",
       "    </tr>\n",
       "    <tr>\n",
       "      <th>16</th>\n",
       "      <td>0.088166</td>\n",
       "      <td>0.160583</td>\n",
       "      <td>0.342791</td>\n",
       "      <td>0.615250</td>\n",
       "    </tr>\n",
       "    <tr>\n",
       "      <th>17</th>\n",
       "      <td>0.087125</td>\n",
       "      <td>0.153958</td>\n",
       "      <td>0.318500</td>\n",
       "      <td>0.621000</td>\n",
       "    </tr>\n",
       "    <tr>\n",
       "      <th>18</th>\n",
       "      <td>0.086833</td>\n",
       "      <td>0.175084</td>\n",
       "      <td>0.310125</td>\n",
       "      <td>0.703584</td>\n",
       "    </tr>\n",
       "    <tr>\n",
       "      <th>19</th>\n",
       "      <td>0.086209</td>\n",
       "      <td>0.153875</td>\n",
       "      <td>0.311083</td>\n",
       "      <td>0.767000</td>\n",
       "    </tr>\n",
       "  </tbody>\n",
       "</table>\n",
       "</div>"
      ],
      "text/plain": [
       "    20 Datapoints  40 Datapoints  80 Datapoints  160 Datapoints\n",
       "0        1.240708       0.271542       0.385209        0.841084\n",
       "1        0.131834       0.171250       0.318708        0.648125\n",
       "2        0.097709       0.162500       0.312125        0.711083\n",
       "3        0.314209       0.183125       0.310834        0.618375\n",
       "4        0.114334       0.157625       0.366416        0.615625\n",
       "5        0.673166       0.154833       0.312917        0.620541\n",
       "6        0.108666       0.176958       0.311291        0.716667\n",
       "7        0.095917       0.154125       0.313625        0.627916\n",
       "8       34.857959       0.152959       0.310959        0.616042\n",
       "9        0.146208       0.174916       0.311084        0.618375\n",
       "10       0.096917       0.153667       0.310417        0.701500\n",
       "11       0.093500       0.154250       0.309625        0.642708\n",
       "12       0.089833       0.176250       0.310291        0.619166\n",
       "13       0.088875       0.154542       0.310875        0.618458\n",
       "14       0.088917       0.153792       0.310500        0.705333\n",
       "15       0.087791       0.175958       0.311042        0.618542\n",
       "16       0.088166       0.160583       0.342791        0.615250\n",
       "17       0.087125       0.153958       0.318500        0.621000\n",
       "18       0.086833       0.175084       0.310125        0.703584\n",
       "19       0.086209       0.153875       0.311083        0.767000"
      ]
     },
     "execution_count": 39,
     "metadata": {},
     "output_type": "execute_result"
    }
   ],
   "source": [
    "df = pd.DataFrame(xml_timer.measurements)\n",
    "df.columns = ['20 Datapoints', '40 Datapoints', '80 Datapoints', '160 Datapoints']\n",
    "df"
   ]
  },
  {
   "cell_type": "markdown",
   "metadata": {
    "pycharm": {
     "name": "#%% md\n"
    }
   },
   "source": [
    "## Vergleich der Ausführungszeiten\n",
    "\n",
    "Folgend sollen die Ausführungszeiten der verschiedenen Parsingmethoden in Verbindung in Relation zu der Eingabegröße betrachtet werden. Die Ergebnisse der Methoden werden dabei grafisch in Form von Balkendiagrammen dargestellt und können somit verglichen werden."
   ]
  },
  {
   "cell_type": "code",
   "execution_count": 40,
   "metadata": {
    "pycharm": {
     "name": "#%%\n"
    }
   },
   "outputs": [
    {
     "data": {
      "image/png": "[encoded data removed]",
      "text/plain": [
       "<Figure size 850.394x425.197 with 1 Axes>"
      ]
     },
     "metadata": {
      "needs_background": "light"
     },
     "output_type": "display_data"
    },
    {
     "data": {
      "image/png": "[encoded data removed]",
      "text/plain": [
       "<Figure size 850.394x425.197 with 1 Axes>"
      ]
     },
     "metadata": {
      "needs_background": "light"
     },
     "output_type": "display_data"
    },
    {
     "data": {
      "image/png": "[encoded data removed]",
      "text/plain": [
       "<Figure size 850.394x425.197 with 1 Axes>"
      ]
     },
     "metadata": {
      "needs_background": "light"
     },
     "output_type": "display_data"
    },
    {
     "data": {
      "image/png": "[encoded data removed]",
      "text/plain": [
       "<Figure size 850.394x425.197 with 1 Axes>"
      ]
     },
     "metadata": {
      "needs_background": "light"
     },
     "output_type": "display_data"
    }
   ],
   "source": [
    "manual_avg = manual_timer.average_time()\n",
    "pyparsing_avg = pyparsing_timer.average_time()\n",
    "yaml_avg = yaml_timer.average_time()\n",
    "xml_avg = xml_timer.average_time()\n",
    "\n",
    "# Define y-axis labels\n",
    "labels = ['Manual', 'Pyparsing', 'YAML', 'XML']\n",
    "\n",
    "# Define y values\n",
    "y = np.arange(len(labels))\n",
    "\n",
    "# Define label helper function\n",
    "def add_labels(bars):\n",
    "    for bar in bars:\n",
    "        width = bar.get_width()\n",
    "        label_y = bar.get_y() + bar.get_height() / 2\n",
    "        plt.text(width, label_y, s=f'{round(width, 4)}')\n",
    "\n",
    "# Define plot helper function\n",
    "def show_bar_plot(values, title):\n",
    "    # Create bar plot\n",
    "    bars = plt.barh(y, values, color=['#6CB1FF', '#FFE000', '#00FF7B', '#FF9800'])\n",
    "\n",
    "    # Axis labels and styling\n",
    "    plt.yticks(y, labels)\n",
    "    plt.xlabel('Time in ms')\n",
    "    add_labels(bars)\n",
    "\n",
    "    plt.title(title)\n",
    "    plt.show()\n",
    "\n",
    "# Show Plots\n",
    "\n",
    "## 20 Datapoints\n",
    "x = [manual_avg[0], pyparsing_avg[0], yaml_avg[0], xml_avg[0]]\n",
    "show_bar_plot(x, 'Time comparison 20 datapoints')\n",
    "\n",
    "## 40 Datapoints\n",
    "x = [manual_avg[1], pyparsing_avg[1], yaml_avg[1], xml_avg[1]]\n",
    "show_bar_plot(x, 'Time comparison 40 datapoints')\n",
    "\n",
    "## 80 Datapoints\n",
    "x = [manual_avg[2], pyparsing_avg[2], yaml_avg[2], xml_avg[2]]\n",
    "show_bar_plot(x, 'Time comparison 80 datapoints')\n",
    "\n",
    "## 160 Datapoints\n",
    "x = [manual_avg[3], pyparsing_avg[3], yaml_avg[3], xml_avg[3]]\n",
    "show_bar_plot(x, 'Time comparison 160 datapoints')"
   ]
  },
  {
   "cell_type": "markdown",
   "source": [
    "## Vergleich der Eingabestruktur\n",
    "\n",
    "Die Struktur der Eingabedateien soll folgend auf die Leserlichkeit durch den Menschen beurteilt werden. Dazu wird jeweils ein Datenpunkt aus den jeweiligen Konfigurationsdateien ausgewählt und den anderen gegenübergestellt. Geachtet wird dabei darauf, dass der Datanpunkt dabei die identische Libg3n Komponente repräsentiert.\n",
    "\n",
    "Als Beispiel wurde hier eine Klasse *Train* definiert, welche zwei Klassenvariablen erhalten soll. Dabei soll die Variable *mass* einen Ganzzahltypen abbilden und die Variable *model* einen Zeichenfolge.\n",
    "\n",
    "---\n",
    "_Libg3n DSL_\n",
    "\n",
    "```\n",
    "class Train\n",
    "    property mass : int\n",
    "    property model : str\n",
    "```\n",
    "---\n",
    "_YAML_\n",
    "```yaml\n",
    "- class:\n",
    "    name: Train\n",
    "    properties:\n",
    "      - property:\n",
    "          name: mass\n",
    "          type: int\n",
    "      - property:\n",
    "          name: type\n",
    "          type: str\n",
    "```\n",
    "---\n",
    "_XML_\n",
    "```xml\n",
    "    <class>\n",
    "        <name>Train</name>\n",
    "        <property>\n",
    "            <name>mass</name>\n",
    "            <type>int</type>\n",
    "        </property>\n",
    "        <property>\n",
    "            <name>model</name>\n",
    "            <type>str</type>\n",
    "        </property>\n",
    "    </class>\n",
    "```\n",
    "---"
   ],
   "metadata": {
    "collapsed": false
   }
  },
  {
   "cell_type": "markdown",
   "source": [
    "## Fazit\n",
    "\n",
    "Abschließend lässt sich feststellen, dass für den begrenzten Einsatzbereich der Libg3n Bibliothek die Defintion einer eigenen DSL und der manuellen Implementation eines Parsers die beste Methodik darstellt.\n",
    "\n",
    "Die Sprachsturkutr von XML bzw. YAML eignen sich außerordentlich, wenn es draum geht, ein besonders breites Spektrum von Notationen abzudecken. Allerdings benötigen sie daher auch eine Vielzahl von Symbolen und Strukturregeln, damit sie eindeutig verarbeitet werden können. Im Gegensatz dazu kommt die Libg3n DSL, durch die starke Eingrenzung des Geltungsbereiches, ohne diese Strukturen aus. Daraus folgt ein deutlich intuitiver und weit gefasster Syntax und zu einer erheblichen Verbesserung der Leserlichkeit von Konfigurationsdateien führt.\n",
    "\n",
    "Darüber hinaus hat sich das manuelle Parsing, mit Ausnahme von XML, gegen die Mitbewerber im Sinne der Ausführungszeit durchsetzen können. Es kann angenommen werden, dass dies auf die native Implementation bzw. die effiziente Integration der xml Bibliothek von python zurückzuführen ist. Allerdings muss an dieser Stelle angemerkt werden, dass sich hier Unterschiede über alle Eingebegrößen hinweg in einem zweistelligen Millisekundenbereich bewegten. Der mögliche Zeitgewinn durch den Einsatz von XML kann hier  durchaus als vernachlässigbar angesehen werden. Zudem überwiegt für den konkreten Anwendungszweck die Leserlichkeit der DSL, da Nutzer von Libg3n somit bemächtigt werden, Konfigurationen intuitiv und effektiv in Textform definieren zu können."
   ],
   "metadata": {
    "collapsed": false
   }
  },
  {
   "cell_type": "markdown",
   "source": [
    "## Quellen\n",
    "\n",
    "[1] https://tomassetti.me/guide-parsing-algorithms-terminology/\n",
    "\n",
    "[2] https://github.com/matplotlib/matplotlib\n",
    "\n",
    "[3] https://github.com/pandas-dev/pandas\n",
    "\n",
    "[4] https://github.com/numpy/numpy\n",
    "\n",
    "[5] https://www.wordnik.com/words/lexical%20analysis\n",
    "\n",
    "[6] https://github.com/pyparsing/pyparsing"
   ],
   "metadata": {
    "collapsed": false,
    "pycharm": {
     "name": "#%% md\n"
    }
   }
  }
 ],
 "metadata": {
  "kernelspec": {
   "display_name": "Python 3 (ipykernel)",
   "language": "python",
   "name": "python3"
  },
  "language_info": {
   "codemirror_mode": {
    "name": "ipython",
    "version": 3
   },
   "file_extension": ".py",
   "mimetype": "text/x-python",
   "name": "python",
   "nbconvert_exporter": "python",
   "pygments_lexer": "ipython3",
   "version": "3.8.9"
  }
 },
 "nbformat": 4,
 "nbformat_minor": 1
}