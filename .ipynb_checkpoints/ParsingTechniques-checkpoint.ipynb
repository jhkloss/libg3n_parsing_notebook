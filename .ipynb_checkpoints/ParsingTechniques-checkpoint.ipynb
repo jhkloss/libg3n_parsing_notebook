{
 "cells": [
  {
   "cell_type": "code",
   "execution_count": 4,
   "metadata": {
    "pycharm": {
     "name": "#%%\n"
    }
   },
   "outputs": [
    {
     "ename": "ModuleNotFoundError",
     "evalue": "No module named 'timer.PerformanceTimer'; 'timer' is not a package",
     "output_type": "error",
     "traceback": [
      "\u001b[1;31m---------------------------------------------------------------------------\u001b[0m",
      "\u001b[1;31mModuleNotFoundError\u001b[0m                       Traceback (most recent call last)",
      "\u001b[1;32m~\\AppData\\Local\\Temp/ipykernel_10700/811449276.py\u001b[0m in \u001b[0;36m<module>\u001b[1;34m\u001b[0m\n\u001b[0;32m      4\u001b[0m \u001b[1;32mfrom\u001b[0m \u001b[0mparse_xml\u001b[0m\u001b[1;33m.\u001b[0m\u001b[0mparser\u001b[0m \u001b[1;32mimport\u001b[0m \u001b[0mparse\u001b[0m \u001b[1;32mas\u001b[0m \u001b[0mparse_xml\u001b[0m\u001b[1;33m\u001b[0m\u001b[1;33m\u001b[0m\u001b[0m\n\u001b[0;32m      5\u001b[0m \u001b[1;33m\u001b[0m\u001b[0m\n\u001b[1;32m----> 6\u001b[1;33m \u001b[1;32mfrom\u001b[0m \u001b[0mtimer\u001b[0m\u001b[1;33m.\u001b[0m\u001b[0mPerformanceTimer\u001b[0m \u001b[1;32mimport\u001b[0m \u001b[0mPerformanceTimer\u001b[0m\u001b[1;33m\u001b[0m\u001b[1;33m\u001b[0m\u001b[0m\n\u001b[0m\u001b[0;32m      7\u001b[0m \u001b[1;33m\u001b[0m\u001b[0m\n\u001b[0;32m      8\u001b[0m \u001b[1;31m# Manual Parsing\u001b[0m\u001b[1;33m\u001b[0m\u001b[1;33m\u001b[0m\u001b[1;33m\u001b[0m\u001b[0m\n",
      "\u001b[1;31mModuleNotFoundError\u001b[0m: No module named 'timer.PerformanceTimer'; 'timer' is not a package"
     ]
    }
   ],
   "source": [
    "from parse_manual.parser import parse as parse_manual\n",
    "from parse_pyparsing.parser import parse as parse_pyparsing\n",
    "from parse_yaml.parser import parse as parse_yaml\n",
    "from parse_xml.parser import parse as parse_xml\n",
    "\n",
    "from timer.PerformanceTimer import PerformanceTimer\n",
    "\n",
    "# Manual Parsing\n",
    "manual_timer = PerformanceTimer('Manual Parsing')\n",
    "manual_timer.measure_function(parse_manual, 'sample.gen')\n",
    "manual_timer.print()\n",
    "\n",
    "# Pyparsing\n",
    "pyparsing_timer = PerformanceTimer('Pyparsing')\n",
    "pyparsing_timer.measure_function(parse_pyparsing, 'sample.gen')\n",
    "pyparsing_timer.print()\n",
    "\n",
    "#YAML\n",
    "yaml_timer = PerformanceTimer('YAML Parsing')\n",
    "yaml_timer.measure_function(parse_yaml, './parse_yaml/sample.yaml')\n",
    "yaml_timer.print()\n",
    "\n",
    "#XML\n",
    "xml_timer = PerformanceTimer('XML Parsing', 10)\n",
    "xml_timer.measure_function(parse_xml, './parse_xml/sample.xml')\n",
    "xml_timer.print()"
   ]
  }
 ],
 "metadata": {
  "kernelspec": {
   "display_name": "Python 3 (ipykernel)",
   "language": "python",
   "name": "python3"
  },
  "language_info": {
   "codemirror_mode": {
    "name": "ipython",
    "version": 3
   },
   "file_extension": ".py",
   "mimetype": "text/x-python",
   "name": "python",
   "nbconvert_exporter": "python",
   "pygments_lexer": "ipython3",
   "version": "3.9.5"
  }
 },
 "nbformat": 4,
 "nbformat_minor": 1
}
